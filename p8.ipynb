{
 "cells": [
  {
   "cell_type": "code",
   "execution_count": 1,
   "id": "436382ec-ffb4-4462-869a-eb5d90c79d70",
   "metadata": {},
   "outputs": [
    {
     "data": {
      "text/plain": [
       "<google.cloud.bigquery.job.query.QueryJobConfig at 0x7fa5a1629cc0>"
      ]
     },
     "execution_count": 1,
     "metadata": {},
     "output_type": "execute_result"
    }
   ],
   "source": [
    "from google.cloud import bigquery\n",
    "bq = bigquery.Client()\n",
    "bigquery.QueryJobConfig(use_query_cache=False)"
   ]
  },
  {
   "cell_type": "code",
   "execution_count": 2,
   "id": "8baecb65-8023-4e97-9b9e-ca5613510965",
   "metadata": {},
   "outputs": [
    {
     "data": {
      "text/html": [
       "<div>\n",
       "<style scoped>\n",
       "    .dataframe tbody tr th:only-of-type {\n",
       "        vertical-align: middle;\n",
       "    }\n",
       "\n",
       "    .dataframe tbody tr th {\n",
       "        vertical-align: top;\n",
       "    }\n",
       "\n",
       "    .dataframe thead th {\n",
       "        text-align: right;\n",
       "    }\n",
       "</style>\n",
       "<table border=\"1\" class=\"dataframe\">\n",
       "  <thead>\n",
       "    <tr style=\"text-align: right;\">\n",
       "      <th></th>\n",
       "      <th>num_rows</th>\n",
       "    </tr>\n",
       "  </thead>\n",
       "  <tbody>\n",
       "    <tr>\n",
       "      <th>0</th>\n",
       "      <td>3233</td>\n",
       "    </tr>\n",
       "  </tbody>\n",
       "</table>\n",
       "</div>"
      ],
      "text/plain": [
       "   num_rows\n",
       "0      3233"
      ]
     },
     "execution_count": 2,
     "metadata": {},
     "output_type": "execute_result"
    }
   ],
   "source": [
    "q = bq.query(\n",
    "\"\"\"\n",
    "select count(*) as num_rows \n",
    "from bigquery-public-data.geo_us_boundaries.counties\n",
    "\"\"\")\n",
    "q.to_dataframe()"
   ]
  },
  {
   "cell_type": "code",
   "execution_count": 3,
   "id": "e52e4402-baee-4dfe-bb45-9d05a59deec4",
   "metadata": {},
   "outputs": [
    {
     "data": {
      "text/plain": [
       "'55025'"
      ]
     },
     "execution_count": 3,
     "metadata": {},
     "output_type": "execute_result"
    }
   ],
   "source": [
    "#Q1\n",
    "job_config = bigquery.QueryJobConfig(use_query_cache=False)\n",
    "q1 = bq.query(\n",
    "\"\"\"\n",
    "select *\n",
    "from `bigquery-public-data.geo_us_boundaries.counties`\n",
    "where lsad_name = \"Dane County\"\n",
    "\"\"\", job_config = job_config\n",
    ")\n",
    "q1.to_dataframe()['geo_id'][0]"
   ]
  },
  {
   "cell_type": "code",
   "execution_count": 4,
   "id": "d1340784-5d85-4634-91ff-8c958d63cc4c",
   "metadata": {},
   "outputs": [
    {
     "data": {
      "text/plain": [
       "{'48': 254, '13': 159, '51': 133, '21': 120, '29': 115}"
      ]
     },
     "execution_count": 4,
     "metadata": {},
     "output_type": "execute_result"
    }
   ],
   "source": [
    "#Q2\n",
    "q2 = bq.query(\n",
    "\"\"\"\n",
    "select state_fips_code, count(state_fips_code) as COUNT\n",
    "from `bigquery-public-data.geo_us_boundaries.counties`\n",
    "group by state_fips_code\n",
    "order by COUNT desc\n",
    "limit 5\n",
    "\"\"\", job_config = job_config)\n",
    "top_df = q2.to_dataframe()\n",
    "dict_q2 = top_df.set_index('state_fips_code')['COUNT'].to_dict()\n",
    "dict_q2"
   ]
  },
  {
   "cell_type": "code",
   "execution_count": 5,
   "id": "f79d1afd-1e90-48c2-baf4-230c1487905a",
   "metadata": {},
   "outputs": [
    {
     "data": {
      "text/plain": [
       "{'q1': 0.0010907649993896484, 'q2': 5.9604644775390625e-05}"
      ]
     },
     "execution_count": 5,
     "metadata": {},
     "output_type": "execute_result"
    }
   ],
   "source": [
    "#q3\n",
    "price_per_tb = 6.25\n",
    "tb = 1024 ** 4\n",
    "cost_dict = {}\n",
    "cost_dict['q1'] = q1.total_bytes_billed / tb * price_per_tb\n",
    "cost_dict['q2'] = q2.total_bytes_billed / tb * price_per_tb\n",
    "cost_dict"
   ]
  },
  {
   "cell_type": "code",
   "execution_count": 6,
   "id": "ac06aa8e-de10-40e2-997a-c2bda6c8a50b",
   "metadata": {},
   "outputs": [
    {
     "data": {
      "text/plain": [
       "['CS544_p8_2023', 'P8', 'p8']"
      ]
     },
     "execution_count": 6,
     "metadata": {},
     "output_type": "execute_result"
    }
   ],
   "source": [
    "#q4\n",
    "ds = bigquery.Dataset(\"striking-audio-398801.p8\")\n",
    "bq.create_dataset(ds, exists_ok=True)\n",
    "job_config_parq = bigquery.LoadJobConfig(source_format=bigquery.SourceFormat.PARQUET, write_disposition = \"WRITE_TRUNCATE\")\n",
    "load_job = bq.load_table_from_uri(\n",
    "    'gs://cs544_p8_2023/hdma-wi-2021.parquet',\n",
    "    \"striking-audio-398801.p8.HDMA\", job_config = job_config_parq\n",
    ")\n",
    "[ds.dataset_id for ds in bq.list_datasets(\"striking-audio-398801\")]"
   ]
  },
  {
   "cell_type": "code",
   "execution_count": 7,
   "id": "ec72eb63-f9b2-49cb-8374-d64895c97fd0",
   "metadata": {},
   "outputs": [
    {
     "data": {
      "text/plain": [
       "{'Milwaukee': 46570,\n",
       " 'Dane': 38557,\n",
       " 'Waukesha': 34159,\n",
       " 'Brown': 15615,\n",
       " 'Racine': 13007,\n",
       " 'Outagamie': 11523,\n",
       " 'Kenosha': 10744,\n",
       " 'Washington': 10726,\n",
       " 'Rock': 9834,\n",
       " 'Winnebago': 9310}"
      ]
     },
     "execution_count": 7,
     "metadata": {},
     "output_type": "execute_result"
    }
   ],
   "source": [
    "#q5\n",
    "q5 = bq.query(\n",
    "\"\"\"\n",
    "select c.county_name, COUNT(*) as loan_applications\n",
    "from `striking-audio-398801.p8.HDMA` as h\n",
    "join `bigquery-public-data.geo_us_boundaries.counties` as c\n",
    "on h.county_code = c.county_fips_code\n",
    "group by c.county_name\n",
    "order by loan_applications DESC\n",
    "limit 10\n",
    "\"\"\")\n",
    "q5_df = q5.to_dataframe()\n",
    "q5_dict = q5_df.set_index('county_name')['loan_applications'].to_dict()\n",
    "q5_dict"
   ]
  },
  {
   "cell_type": "code",
   "execution_count": 8,
   "id": "7eec1f27-ae69-468d-8504-ddf40da52cd0",
   "metadata": {},
   "outputs": [],
   "source": [
    "url = \"https://docs.google.com/spreadsheets/d/11UeIBqQylAyNUBsIO54p6WiYJWHayQMfHDbUWq1jGco/\"\n",
    "\n",
    "external_config = bigquery.ExternalConfig(\"GOOGLE_SHEETS\")\n",
    "external_config.source_uris = [url]\n",
    "external_config.options.skip_leading_rows = 1\n",
    "external_config.autodetect = True\n",
    "\n",
    "table = bigquery.Table('striking-audio-398801.p8.applications')\n",
    "table.external_data_configuration = external_config\n",
    "\n",
    "table = bq.create_table(table, exists_ok=True)"
   ]
  },
  {
   "cell_type": "code",
   "execution_count": 9,
   "id": "2ebb5f24-600f-4884-ac69-b081c3afa73b",
   "metadata": {},
   "outputs": [
    {
     "data": {
      "text/plain": [
       "20"
      ]
     },
     "execution_count": 9,
     "metadata": {},
     "output_type": "execute_result"
    }
   ],
   "source": [
    "#q6\n",
    "q6 = bq.query(\"\"\"\n",
    "select *\n",
    "from striking-audio-398801.p8.applications\n",
    "where income = 200000\n",
    "\"\"\")\n",
    "q6_df = q6.to_dataframe()\n",
    "len(q6_df)"
   ]
  },
  {
   "cell_type": "code",
   "execution_count": 10,
   "id": "f045f456-7748-4f47-b4e8-963a57216efe",
   "metadata": {},
   "outputs": [
    {
     "data": {
      "text/plain": [
       "{'Door': 18,\n",
       " 'Wood': 2,\n",
       " 'Dane': 59,\n",
       " 'Sauk': 2,\n",
       " 'Winnebago': 3,\n",
       " 'Walworth': 4,\n",
       " 'Oneida': 3,\n",
       " 'Brown': 6,\n",
       " 'Dodge': 1,\n",
       " 'Marathon': 1,\n",
       " 'Polk': 1,\n",
       " 'Milwaukee': 4,\n",
       " 'Green Lake': 2,\n",
       " 'Bayfield': 5,\n",
       " 'Ozaukee': 1,\n",
       " 'Jefferson': 2,\n",
       " 'Sheboygan': 4,\n",
       " 'Marinette': 2,\n",
       " 'Eau Claire': 1,\n",
       " 'Monroe': 2,\n",
       " 'Douglas': 1,\n",
       " 'Ashland': 2,\n",
       " 'Manitowoc': 1,\n",
       " 'Columbia': 4,\n",
       " 'Crawford': 1,\n",
       " 'Barron': 2,\n",
       " 'Iowa': 1,\n",
       " 'Kewaunee': 2,\n",
       " 'Adams': 1,\n",
       " 'St. Croix': 1,\n",
       " 'Outagamie': 1,\n",
       " 'Chippewa': 1}"
      ]
     },
     "execution_count": 10,
     "metadata": {},
     "output_type": "execute_result"
    }
   ],
   "source": [
    "#q7\n",
    "q7 = bq.query(\"\"\"\n",
    "select c.county_name, COUNT(*) as application_count\n",
    "from striking-audio-398801.p8.applications as g\n",
    "join bigquery-public-data.geo_us_boundaries.counties as c\n",
    "on ST_CONTAINS(c.county_geom, ST_GEOGPOINT(g.longitude, g.latitude))\n",
    "where c.state_fips_code = '55'\n",
    "group by c.county_name\n",
    "\"\"\")\n",
    "q7_df = q7.to_dataframe()\n",
    "q7_dict = q7_df.set_index('county_name')['application_count'].to_dict()\n",
    "q7_dict"
   ]
  },
  {
   "cell_type": "code",
   "execution_count": 11,
   "id": "75525097-140c-40ae-be57-24a6a7768266",
   "metadata": {},
   "outputs": [],
   "source": [
    "import time\n",
    "while True:\n",
    "    models = list(bq.list_models('striking-audio-398801.p8')) \n",
    "    if any(model.model_id == 'lr_p8' for model in models): \n",
    "        break\n",
    "    time.sleep(5)"
   ]
  },
  {
   "cell_type": "code",
   "execution_count": 12,
   "id": "d7d297c5-97d6-4f60-a0ee-d57e4fd7ab2d",
   "metadata": {},
   "outputs": [
    {
     "data": {
      "text/plain": [
       "0.291653469223921"
      ]
     },
     "execution_count": 12,
     "metadata": {},
     "output_type": "execute_result"
    }
   ],
   "source": [
    "#q8\n",
    "bq.query(\"\"\"\n",
    "CREATE OR REPLACE MODEL `striking-audio-398801.p8.lr_p8`\n",
    "OPTIONS(model_type='LINEAR_REG', input_label_cols=['loan_amount']) AS\n",
    "SELECT loan_amount, income, loan_term\n",
    "FROM\n",
    "  `striking-audio-398801.p8.HDMA`\n",
    "\"\"\")\n",
    "\n",
    "eval_q8 = bq.query(\"\"\"\n",
    "SELECT\n",
    "  *\n",
    "FROM\n",
    "  ML.EVALUATE(MODEL `striking-audio-398801.p8.lr_p8`,\n",
    "  (\n",
    "    SELECT\n",
    "      loan_amount,\n",
    "      income,\n",
    "      loan_term\n",
    "    FROM\n",
    "      `striking-audio-398801.p8.HDMA`\n",
    "  ))\n",
    "\"\"\").to_dataframe()\n",
    "\n",
    "eval_q8['r2_score'][0]"
   ]
  },
  {
   "cell_type": "code",
   "execution_count": 13,
   "id": "6269c991-01b5-401d-aaa2-7661245eac28",
   "metadata": {},
   "outputs": [
    {
     "data": {
      "text/plain": [
       "0.8046310253989896"
      ]
     },
     "execution_count": 13,
     "metadata": {},
     "output_type": "execute_result"
    }
   ],
   "source": [
    "#q9\n",
    "q9_weight = bq.query(\"\"\"\n",
    "SELECT\n",
    "  *\n",
    "FROM\n",
    "  ML.WEIGHTS(MODEL `striking-audio-398801.p8.lr_p8`)\n",
    "WHERE\n",
    "  processed_input = 'income'\n",
    "\"\"\").to_dataframe()\n",
    "q9_weight['weight'][0]"
   ]
  },
  {
   "cell_type": "code",
   "execution_count": 14,
   "id": "55025d32-1ccf-4bb6-ad9c-451687f693e0",
   "metadata": {},
   "outputs": [
    {
     "data": {
      "text/plain": [
       "0.592436974789916"
      ]
     },
     "execution_count": 14,
     "metadata": {},
     "output_type": "execute_result"
    }
   ],
   "source": [
    "#q10\n",
    "practice_quer = bq.query(\"\"\"\n",
    "SELECT *\n",
    "FROM ML.PREDICT(MODEL `striking-audio-398801.p8.lr_p8`, (\n",
    "    SELECT loan_amount, income, 360 AS loan_term\n",
    "    FROM `striking-audio-398801.p8.applications`\n",
    "))\n",
    "\"\"\")\n",
    "q10_df = practice_quer.to_dataframe()\n",
    "q10_count = 0\n",
    "for i in range(len(q10_df)):\n",
    "    if q10_df['loan_amount'][i] > q10_df['predicted_loan_amount'][i]:\n",
    "        q10_count += 1\n",
    "q10_count / len(q10_df)"
   ]
  }
 ],
 "metadata": {
  "kernelspec": {
   "display_name": "Python 3 (ipykernel)",
   "language": "python",
   "name": "python3"
  },
  "language_info": {
   "codemirror_mode": {
    "name": "ipython",
    "version": 3
   },
   "file_extension": ".py",
   "mimetype": "text/x-python",
   "name": "python",
   "nbconvert_exporter": "python",
   "pygments_lexer": "ipython3",
   "version": "3.10.12"
  }
 },
 "nbformat": 4,
 "nbformat_minor": 5
}
